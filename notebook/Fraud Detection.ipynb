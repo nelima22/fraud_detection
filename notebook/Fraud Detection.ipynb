{
 "cells": [
  {
   "cell_type": "markdown",
   "id": "609d764e-027d-4bd2-b427-98a752c46ee4",
   "metadata": {},
   "source": [
    "# Set up Kaggle API Credentials and Loading the Dataset"
   ]
  },
  {
   "cell_type": "code",
   "execution_count": 3,
   "id": "45cdc12e-37ff-4ea4-942a-525b90fe9454",
   "metadata": {},
   "outputs": [
    {
     "data": {
      "text/plain": [
       "'C:\\\\Users\\\\PC/.kaggle/kaggle.json'"
      ]
     },
     "execution_count": 3,
     "metadata": {},
     "output_type": "execute_result"
    }
   ],
   "source": [
    "import os\n",
    "import shutil\n",
    "\n",
    "#Create .kaggle folder\n",
    "os.makedirs(os.path.expanduser(\"~/.kaggle\"), exist_ok=True)\n",
    "\n",
    "#Move the kaggle json file into the kaggle config directory\n",
    "shutil.copy(\"kaggle.json\", os.path.expanduser(\"~/.kaggle/kaggle.json\"))\n"
   ]
  },
  {
   "cell_type": "code",
   "execution_count": 4,
   "id": "fa902c8c-1962-47b7-b623-6748ce619e9c",
   "metadata": {},
   "outputs": [
    {
     "name": "stdout",
     "output_type": "stream",
     "text": [
      "Dataset URL: https://www.kaggle.com/datasets/ealaxi/paysim1\n",
      "License(s): CC-BY-SA-4.0\n",
      "paysim1.zip: Skipping, found more recently modified local copy (use --force to force download)\n"
     ]
    }
   ],
   "source": [
    "#Download dataset\n",
    "!kaggle datasets download -d ealaxi/paysim1\n"
   ]
  },
  {
   "cell_type": "code",
   "execution_count": 5,
   "id": "2c80f8c8-8635-4dec-ae29-67c5118df0dd",
   "metadata": {},
   "outputs": [],
   "source": [
    "#Unzipping downloaded file\n",
    "import zipfile\n",
    "\n",
    "with zipfile.ZipFile(\"paysim1.zip\", 'r') as zip_ref:\n",
    "    zip_ref.extractall(\".\")  # Extracts to current directory\n"
   ]
  },
  {
   "cell_type": "code",
   "execution_count": 6,
   "id": "205a2fe2-cfa5-4f2b-861e-5e902e025cc2",
   "metadata": {},
   "outputs": [
    {
     "data": {
      "text/html": [
       "<div>\n",
       "<style scoped>\n",
       "    .dataframe tbody tr th:only-of-type {\n",
       "        vertical-align: middle;\n",
       "    }\n",
       "\n",
       "    .dataframe tbody tr th {\n",
       "        vertical-align: top;\n",
       "    }\n",
       "\n",
       "    .dataframe thead th {\n",
       "        text-align: right;\n",
       "    }\n",
       "</style>\n",
       "<table border=\"1\" class=\"dataframe\">\n",
       "  <thead>\n",
       "    <tr style=\"text-align: right;\">\n",
       "      <th></th>\n",
       "      <th>step</th>\n",
       "      <th>type</th>\n",
       "      <th>amount</th>\n",
       "      <th>nameOrig</th>\n",
       "      <th>oldbalanceOrg</th>\n",
       "      <th>newbalanceOrig</th>\n",
       "      <th>nameDest</th>\n",
       "      <th>oldbalanceDest</th>\n",
       "      <th>newbalanceDest</th>\n",
       "      <th>isFraud</th>\n",
       "      <th>isFlaggedFraud</th>\n",
       "    </tr>\n",
       "  </thead>\n",
       "  <tbody>\n",
       "    <tr>\n",
       "      <th>0</th>\n",
       "      <td>1</td>\n",
       "      <td>PAYMENT</td>\n",
       "      <td>9839.64</td>\n",
       "      <td>C1231006815</td>\n",
       "      <td>170136.0</td>\n",
       "      <td>160296.36</td>\n",
       "      <td>M1979787155</td>\n",
       "      <td>0.0</td>\n",
       "      <td>0.0</td>\n",
       "      <td>0</td>\n",
       "      <td>0</td>\n",
       "    </tr>\n",
       "    <tr>\n",
       "      <th>1</th>\n",
       "      <td>1</td>\n",
       "      <td>PAYMENT</td>\n",
       "      <td>1864.28</td>\n",
       "      <td>C1666544295</td>\n",
       "      <td>21249.0</td>\n",
       "      <td>19384.72</td>\n",
       "      <td>M2044282225</td>\n",
       "      <td>0.0</td>\n",
       "      <td>0.0</td>\n",
       "      <td>0</td>\n",
       "      <td>0</td>\n",
       "    </tr>\n",
       "    <tr>\n",
       "      <th>2</th>\n",
       "      <td>1</td>\n",
       "      <td>TRANSFER</td>\n",
       "      <td>181.00</td>\n",
       "      <td>C1305486145</td>\n",
       "      <td>181.0</td>\n",
       "      <td>0.00</td>\n",
       "      <td>C553264065</td>\n",
       "      <td>0.0</td>\n",
       "      <td>0.0</td>\n",
       "      <td>1</td>\n",
       "      <td>0</td>\n",
       "    </tr>\n",
       "    <tr>\n",
       "      <th>3</th>\n",
       "      <td>1</td>\n",
       "      <td>CASH_OUT</td>\n",
       "      <td>181.00</td>\n",
       "      <td>C840083671</td>\n",
       "      <td>181.0</td>\n",
       "      <td>0.00</td>\n",
       "      <td>C38997010</td>\n",
       "      <td>21182.0</td>\n",
       "      <td>0.0</td>\n",
       "      <td>1</td>\n",
       "      <td>0</td>\n",
       "    </tr>\n",
       "    <tr>\n",
       "      <th>4</th>\n",
       "      <td>1</td>\n",
       "      <td>PAYMENT</td>\n",
       "      <td>11668.14</td>\n",
       "      <td>C2048537720</td>\n",
       "      <td>41554.0</td>\n",
       "      <td>29885.86</td>\n",
       "      <td>M1230701703</td>\n",
       "      <td>0.0</td>\n",
       "      <td>0.0</td>\n",
       "      <td>0</td>\n",
       "      <td>0</td>\n",
       "    </tr>\n",
       "  </tbody>\n",
       "</table>\n",
       "</div>"
      ],
      "text/plain": [
       "   step      type    amount     nameOrig  oldbalanceOrg  newbalanceOrig  \\\n",
       "0     1   PAYMENT   9839.64  C1231006815       170136.0       160296.36   \n",
       "1     1   PAYMENT   1864.28  C1666544295        21249.0        19384.72   \n",
       "2     1  TRANSFER    181.00  C1305486145          181.0            0.00   \n",
       "3     1  CASH_OUT    181.00   C840083671          181.0            0.00   \n",
       "4     1   PAYMENT  11668.14  C2048537720        41554.0        29885.86   \n",
       "\n",
       "      nameDest  oldbalanceDest  newbalanceDest  isFraud  isFlaggedFraud  \n",
       "0  M1979787155             0.0             0.0        0               0  \n",
       "1  M2044282225             0.0             0.0        0               0  \n",
       "2   C553264065             0.0             0.0        1               0  \n",
       "3    C38997010         21182.0             0.0        1               0  \n",
       "4  M1230701703             0.0             0.0        0               0  "
      ]
     },
     "execution_count": 6,
     "metadata": {},
     "output_type": "execute_result"
    }
   ],
   "source": [
    "import pandas as pd\n",
    "\n",
    "df = pd.read_csv(\"PS_20174392719_1491204439457_log.csv\")\n",
    "df.head()\n"
   ]
  },
  {
   "cell_type": "markdown",
   "id": "81d1ad6e-b6dc-4569-a0cd-3dc6651f98f0",
   "metadata": {},
   "source": [
    "# EDA"
   ]
  },
  {
   "cell_type": "code",
   "execution_count": 7,
   "id": "92b87d58-ccef-429f-93a7-0b9de4c5be9d",
   "metadata": {},
   "outputs": [
    {
     "name": "stdout",
     "output_type": "stream",
     "text": [
      "<class 'pandas.core.frame.DataFrame'>\n",
      "RangeIndex: 6362620 entries, 0 to 6362619\n",
      "Data columns (total 11 columns):\n",
      " #   Column          Dtype  \n",
      "---  ------          -----  \n",
      " 0   step            int64  \n",
      " 1   type            object \n",
      " 2   amount          float64\n",
      " 3   nameOrig        object \n",
      " 4   oldbalanceOrg   float64\n",
      " 5   newbalanceOrig  float64\n",
      " 6   nameDest        object \n",
      " 7   oldbalanceDest  float64\n",
      " 8   newbalanceDest  float64\n",
      " 9   isFraud         int64  \n",
      " 10  isFlaggedFraud  int64  \n",
      "dtypes: float64(5), int64(3), object(3)\n",
      "memory usage: 534.0+ MB\n"
     ]
    }
   ],
   "source": [
    "df.info()"
   ]
  },
  {
   "cell_type": "code",
   "execution_count": 8,
   "id": "b31e974a-4050-4e53-8d77-e0b4efb56eef",
   "metadata": {},
   "outputs": [
    {
     "name": "stdout",
     "output_type": "stream",
     "text": [
      "step              0\n",
      "type              0\n",
      "amount            0\n",
      "nameOrig          0\n",
      "oldbalanceOrg     0\n",
      "newbalanceOrig    0\n",
      "nameDest          0\n",
      "oldbalanceDest    0\n",
      "newbalanceDest    0\n",
      "isFraud           0\n",
      "isFlaggedFraud    0\n",
      "dtype: int64\n"
     ]
    }
   ],
   "source": [
    "print(df.isnull().sum())  # Counts nulls per column"
   ]
  },
  {
   "cell_type": "code",
   "execution_count": 9,
   "id": "59bdb01f-1045-4c67-8281-6a5eb971f4a0",
   "metadata": {},
   "outputs": [
    {
     "data": {
      "text/html": [
       "<div>\n",
       "<style scoped>\n",
       "    .dataframe tbody tr th:only-of-type {\n",
       "        vertical-align: middle;\n",
       "    }\n",
       "\n",
       "    .dataframe tbody tr th {\n",
       "        vertical-align: top;\n",
       "    }\n",
       "\n",
       "    .dataframe thead th {\n",
       "        text-align: right;\n",
       "    }\n",
       "</style>\n",
       "<table border=\"1\" class=\"dataframe\">\n",
       "  <thead>\n",
       "    <tr style=\"text-align: right;\">\n",
       "      <th></th>\n",
       "      <th>step</th>\n",
       "      <th>amount</th>\n",
       "      <th>oldbalanceOrg</th>\n",
       "      <th>newbalanceOrig</th>\n",
       "      <th>oldbalanceDest</th>\n",
       "      <th>newbalanceDest</th>\n",
       "      <th>isFraud</th>\n",
       "      <th>isFlaggedFraud</th>\n",
       "    </tr>\n",
       "  </thead>\n",
       "  <tbody>\n",
       "    <tr>\n",
       "      <th>count</th>\n",
       "      <td>6.362620e+06</td>\n",
       "      <td>6.362620e+06</td>\n",
       "      <td>6.362620e+06</td>\n",
       "      <td>6.362620e+06</td>\n",
       "      <td>6.362620e+06</td>\n",
       "      <td>6.362620e+06</td>\n",
       "      <td>6.362620e+06</td>\n",
       "      <td>6.362620e+06</td>\n",
       "    </tr>\n",
       "    <tr>\n",
       "      <th>mean</th>\n",
       "      <td>2.433972e+02</td>\n",
       "      <td>1.798619e+05</td>\n",
       "      <td>8.338831e+05</td>\n",
       "      <td>8.551137e+05</td>\n",
       "      <td>1.100702e+06</td>\n",
       "      <td>1.224996e+06</td>\n",
       "      <td>1.290820e-03</td>\n",
       "      <td>2.514687e-06</td>\n",
       "    </tr>\n",
       "    <tr>\n",
       "      <th>std</th>\n",
       "      <td>1.423320e+02</td>\n",
       "      <td>6.038582e+05</td>\n",
       "      <td>2.888243e+06</td>\n",
       "      <td>2.924049e+06</td>\n",
       "      <td>3.399180e+06</td>\n",
       "      <td>3.674129e+06</td>\n",
       "      <td>3.590480e-02</td>\n",
       "      <td>1.585775e-03</td>\n",
       "    </tr>\n",
       "    <tr>\n",
       "      <th>min</th>\n",
       "      <td>1.000000e+00</td>\n",
       "      <td>0.000000e+00</td>\n",
       "      <td>0.000000e+00</td>\n",
       "      <td>0.000000e+00</td>\n",
       "      <td>0.000000e+00</td>\n",
       "      <td>0.000000e+00</td>\n",
       "      <td>0.000000e+00</td>\n",
       "      <td>0.000000e+00</td>\n",
       "    </tr>\n",
       "    <tr>\n",
       "      <th>25%</th>\n",
       "      <td>1.560000e+02</td>\n",
       "      <td>1.338957e+04</td>\n",
       "      <td>0.000000e+00</td>\n",
       "      <td>0.000000e+00</td>\n",
       "      <td>0.000000e+00</td>\n",
       "      <td>0.000000e+00</td>\n",
       "      <td>0.000000e+00</td>\n",
       "      <td>0.000000e+00</td>\n",
       "    </tr>\n",
       "    <tr>\n",
       "      <th>50%</th>\n",
       "      <td>2.390000e+02</td>\n",
       "      <td>7.487194e+04</td>\n",
       "      <td>1.420800e+04</td>\n",
       "      <td>0.000000e+00</td>\n",
       "      <td>1.327057e+05</td>\n",
       "      <td>2.146614e+05</td>\n",
       "      <td>0.000000e+00</td>\n",
       "      <td>0.000000e+00</td>\n",
       "    </tr>\n",
       "    <tr>\n",
       "      <th>75%</th>\n",
       "      <td>3.350000e+02</td>\n",
       "      <td>2.087215e+05</td>\n",
       "      <td>1.073152e+05</td>\n",
       "      <td>1.442584e+05</td>\n",
       "      <td>9.430367e+05</td>\n",
       "      <td>1.111909e+06</td>\n",
       "      <td>0.000000e+00</td>\n",
       "      <td>0.000000e+00</td>\n",
       "    </tr>\n",
       "    <tr>\n",
       "      <th>max</th>\n",
       "      <td>7.430000e+02</td>\n",
       "      <td>9.244552e+07</td>\n",
       "      <td>5.958504e+07</td>\n",
       "      <td>4.958504e+07</td>\n",
       "      <td>3.560159e+08</td>\n",
       "      <td>3.561793e+08</td>\n",
       "      <td>1.000000e+00</td>\n",
       "      <td>1.000000e+00</td>\n",
       "    </tr>\n",
       "  </tbody>\n",
       "</table>\n",
       "</div>"
      ],
      "text/plain": [
       "               step        amount  oldbalanceOrg  newbalanceOrig  \\\n",
       "count  6.362620e+06  6.362620e+06   6.362620e+06    6.362620e+06   \n",
       "mean   2.433972e+02  1.798619e+05   8.338831e+05    8.551137e+05   \n",
       "std    1.423320e+02  6.038582e+05   2.888243e+06    2.924049e+06   \n",
       "min    1.000000e+00  0.000000e+00   0.000000e+00    0.000000e+00   \n",
       "25%    1.560000e+02  1.338957e+04   0.000000e+00    0.000000e+00   \n",
       "50%    2.390000e+02  7.487194e+04   1.420800e+04    0.000000e+00   \n",
       "75%    3.350000e+02  2.087215e+05   1.073152e+05    1.442584e+05   \n",
       "max    7.430000e+02  9.244552e+07   5.958504e+07    4.958504e+07   \n",
       "\n",
       "       oldbalanceDest  newbalanceDest       isFraud  isFlaggedFraud  \n",
       "count    6.362620e+06    6.362620e+06  6.362620e+06    6.362620e+06  \n",
       "mean     1.100702e+06    1.224996e+06  1.290820e-03    2.514687e-06  \n",
       "std      3.399180e+06    3.674129e+06  3.590480e-02    1.585775e-03  \n",
       "min      0.000000e+00    0.000000e+00  0.000000e+00    0.000000e+00  \n",
       "25%      0.000000e+00    0.000000e+00  0.000000e+00    0.000000e+00  \n",
       "50%      1.327057e+05    2.146614e+05  0.000000e+00    0.000000e+00  \n",
       "75%      9.430367e+05    1.111909e+06  0.000000e+00    0.000000e+00  \n",
       "max      3.560159e+08    3.561793e+08  1.000000e+00    1.000000e+00  "
      ]
     },
     "execution_count": 9,
     "metadata": {},
     "output_type": "execute_result"
    }
   ],
   "source": [
    "df.describe()"
   ]
  },
  {
   "cell_type": "code",
   "execution_count": 10,
   "id": "0f51e323-c023-4f9a-bbc6-fc6bd1f4efc7",
   "metadata": {},
   "outputs": [
    {
     "data": {
      "text/plain": [
       "isFraud\n",
       "0    0.998709\n",
       "1    0.001291\n",
       "Name: proportion, dtype: float64"
      ]
     },
     "execution_count": 10,
     "metadata": {},
     "output_type": "execute_result"
    }
   ],
   "source": [
    "df['isFraud'].value_counts(normalize=True)"
   ]
  },
  {
   "cell_type": "code",
   "execution_count": 11,
   "id": "81ca802a-c40e-4463-a1ba-408c2b2c1f03",
   "metadata": {},
   "outputs": [],
   "source": [
    "import seaborn as sns\n",
    "import matplotlib.pyplot as plt\n",
    "import plotly.express as px\n",
    "import plotly.graph_objects as go\n",
    "\n",
    "sns.set(style=\"whitegrid\", palette=\"pastel\")"
   ]
  },
  {
   "cell_type": "code",
   "execution_count": 12,
   "id": "64d1804a-e94f-4232-bb91-ccbe38a0bb99",
   "metadata": {},
   "outputs": [
    {
     "data": {
      "image/png": "[encoded data removed]",
      "text/plain": [
       "<Figure size 1400x600 with 2 Axes>"
      ]
     },
     "metadata": {},
     "output_type": "display_data"
    }
   ],
   "source": [
    "import matplotlib.pyplot as plt\n",
    "import seaborn as sns\n",
    "\n",
    "# Create subplots\n",
    "fig, (ax1, ax2) = plt.subplots(1, 2, figsize=(14, 6))\n",
    "\n",
    "# --- Pie Chart (Left) ---\n",
    "fraud_pct = df[\"isFraud\"].value_counts(normalize=True) * 100\n",
    "ax1.pie(fraud_pct, \n",
    "        labels=['Non-Fraud', 'Fraud'], \n",
    "        autopct='%1.1f%%',\n",
    "        colors=['#1f77b4','#E74C3C'],\n",
    "        startangle=90)\n",
    "ax1.set_title(\"Fraud Percentage\", pad=20)\n",
    "\n",
    "# --- Bar Chart (Right) ---\n",
    "sns.countplot(x=\"isFraud\", data=df, hue=\"isFraud\",  \n",
    "              palette=['#1f77b4','#E74C3C'], \n",
    "              legend=False, \n",
    "              ax=ax2)\n",
    "ax2.set_yscale('log')\n",
    "ax2.set_title(\"Fraud Count (Log Scale)\", pad=20)\n",
    "ax2.set_xlabel(\"Fraud Status (0 = Non-Fraud, 1 = Fraud)\")\n",
    "ax2.set_ylabel(\"Count (Log Scale)\")\n",
    "\n",
    "# Add count labels\n",
    "for p in ax2.patches:\n",
    "    ax2.annotate(f'{p.get_height():,}', \n",
    "                (p.get_x() + p.get_width() / 2., p.get_height() * 1.05), \n",
    "                ha='center', \n",
    "                color='black')\n",
    "\n",
    "plt.tight_layout()\n",
    "plt.show()"
   ]
  },
  {
   "cell_type": "markdown",
   "id": "1e5c05f8-c7fd-4e1d-8fb8-146773211cc2",
   "metadata": {},
   "source": [
    "The dataset is heavily imbalanced, with very few fraud cases compared to normal transactions. To address this, we'll later apply **SMOTE** to oversample the minority class and improve model learning.\n"
   ]
  },
  {
   "cell_type": "code",
   "execution_count": 13,
   "id": "9e8a46da-71d5-4a01-8956-af66744bb4df",
   "metadata": {},
   "outputs": [
    {
     "data": {
      "image/png": "[encoded data removed]",
      "text/plain": [
       "<Figure size 1000x600 with 1 Axes>"
      ]
     },
     "metadata": {},
     "output_type": "display_data"
    }
   ],
   "source": [
    "import numpy as np\n",
    "\n",
    "# Prepare data\n",
    "tx_type_fraud = df.groupby(['type', 'isFraud']).size().unstack()\n",
    "types = tx_type_fraud.index\n",
    "x = np.arange(len(types))\n",
    "width = 0.35\n",
    "\n",
    "# Plot\n",
    "fig, ax = plt.subplots(figsize=(10, 6))\n",
    "rects1 = ax.bar(x - width/2, tx_type_fraud[0], width, label='Non-Fraud', color='#1f77b4')\n",
    "rects2 = ax.bar(x + width/2, tx_type_fraud[1], width, label='Fraud', color='#E74C3C')\n",
    "\n",
    "ax.set_title('Transaction Type vs Fraud Count', fontsize=14, pad=20)\n",
    "ax.set_xlabel('Transaction Type', fontsize=12)\n",
    "ax.set_ylabel('Count (Log Scale)', fontsize=12)\n",
    "ax.set_xticks(x)\n",
    "ax.set_xticklabels(types)\n",
    "ax.set_yscale('log')  # Critical for visibility\n",
    "ax.legend()\n",
    "fig.tight_layout()\n",
    "plt.show()"
   ]
  },
  {
   "cell_type": "markdown",
   "id": "78ffb4a1-87d1-4815-8ab1-32e995ec1260",
   "metadata": {},
   "source": [
    "Only the **'CASH_OUT'** and **'TRANSFER'** transaction types contain fraudulent activity, while all other types show zero fraud cases. This highlights that fraud is concentrated within specific transaction methods, which can inform feature selection and model focus.\n"
   ]
  },
  {
   "cell_type": "code",
   "execution_count": 43,
   "id": "dce8d955-a6f0-4eb7-baa5-d7270e2f44d2",
   "metadata": {},
   "outputs": [
    {
     "data": {
      "image/png": "[encoded data removed]",
      "text/plain": [
       "<Figure size 1000x600 with 1 Axes>"
      ]
     },
     "metadata": {},
     "output_type": "display_data"
    }
   ],
   "source": [
    "## Filter data first to improve performance\n",
    "plot_data = df[df['amount'] < 10000].copy()\n",
    "\n",
    "plt.figure(figsize=(10, 6), dpi=100)  # Higher DPI for clearer rendering\n",
    "\n",
    "# Create split violins for better comparison\n",
    "sns.violinplot(data=plot_data,\n",
    "               x=\"isFraud\",\n",
    "               y=\"amount\",\n",
    "               hue=\"isFraud\",\n",
    "               palette={0: '#1f77b4', 1: '#E74C3C'},  # Direct color mapping\n",
    "               split=True,  # Puts both violins side-by-side\n",
    "               inner=\"quartile\",  # Shows median/interquartile lines\n",
    "               bw_method=0.2,  # Reduces smoothing for sharper plot\n",
    "               cut=0)  # Extends violins to data limits\n",
    "\n",
    "# Customize appearance\n",
    "plt.title(\"Transaction Amount Distribution by Fraud Status\\n(Transactions < $10K)\", \n",
    "          fontsize=14, pad=20)\n",
    "plt.xlabel(\"Fraud Status\", fontsize=12)\n",
    "plt.ylabel(\"Amount ($)\", fontsize=12)\n",
    "plt.xticks([0, 1], ['Non-Fraud (0)', 'Fraud (1)'])\n",
    "plt.legend().remove()  # Clean up since we labeled directly\n",
    "\n",
    "# Add explicit color legend\n",
    "plt.text(1.02, 0.5, \"Non-Fraud\", color='#1f77b4', \n",
    "         transform=plt.gca().transAxes, va='center')\n",
    "plt.text(1.02, 0.4, \"Fraud\", color='#E74C3C',\n",
    "         transform=plt.gca().transAxes, va='center')\n",
    "\n",
    "# Optimize performance\n",
    "plt.tight_layout()\n",
    "plt.show()"
   ]
  },
  {
   "cell_type": "markdown",
   "id": "72fff5c6-e324-44c9-8937-9994c8965ce3",
   "metadata": {},
   "source": [
    "The distribution of transaction amounts for fraud cases shows **visible but not sharply defined spikes** between **$0-$2,000** and **$8,000-$10,000**. These ranges may indicate common fraud thresholds or limits exploited by attackers. While not sharply peaked, the elevated density in these zones suggests targeted behavior worth further investigation.\n"
   ]
  },
  {
   "cell_type": "markdown",
   "id": "d68bbed2-91cf-4046-b04d-20b0cb27e570",
   "metadata": {},
   "source": [
    "# Feature Engineering"
   ]
  },
  {
   "cell_type": "markdown",
   "id": "daa9cbaf-a9be-4e1d-baab-5e49d64fa605",
   "metadata": {},
   "source": [
    "From EDA we saw fraud happens only in TRANSFER and CASH_OUT transactions\n",
    "We can filter for those."
   ]
  },
  {
   "cell_type": "code",
   "execution_count": 15,
   "id": "5f154342-347e-41a8-972c-fa7a3afe68f2",
   "metadata": {},
   "outputs": [],
   "source": [
    "df_filtered = df[df['type'].isin(['TRANSFER', 'CASH_OUT'])].copy()\n"
   ]
  },
  {
   "cell_type": "code",
   "execution_count": 16,
   "id": "50df81a3-dbea-4699-9b67-188040a0bc7a",
   "metadata": {},
   "outputs": [],
   "source": [
    "# We encode the transaction type\n",
    "df_filtered['type'] = df_filtered['type'].map({'CASH_OUT': 0, 'TRANSFER': 1})\n"
   ]
  },
  {
   "cell_type": "markdown",
   "id": "e1dbbc7d-1712-437a-899d-0e7301ffed27",
   "metadata": {},
   "source": [
    "We then create new features that capture suspicious behaviour"
   ]
  },
  {
   "cell_type": "code",
   "execution_count": 17,
   "id": "3a77a894-48bc-4d7c-893b-1e8d1ad0a4dc",
   "metadata": {},
   "outputs": [],
   "source": [
    "# Difference between original balances before and after transaction\n",
    "df_filtered['balance_diff_orig'] = df_filtered['oldbalanceOrg'] - df_filtered['newbalanceOrig']\n",
    "\n",
    "# Difference between destination balances\n",
    "df_filtered['balance_diff_dest'] = df_filtered['newbalanceDest'] - df_filtered['oldbalanceDest']\n",
    "\n",
    "# Was the origin balance zero before or after? Could be suspicious.\n",
    "df_filtered['is_orig_balance_zero_before'] = df_filtered['oldbalanceOrg'] == 0\n",
    "df_filtered['is_orig_balance_zero_after'] = df_filtered['newbalanceOrig'] == 0\n",
    "\n",
    "# Same for destination\n",
    "df_filtered['is_dest_balance_zero_before'] = df_filtered['oldbalanceDest'] == 0\n",
    "df_filtered['is_dest_balance_zero_after'] = df_filtered['newbalanceDest'] == 0\n"
   ]
  },
  {
   "cell_type": "code",
   "execution_count": 18,
   "id": "ecb2834e-54d4-428d-8ecb-58214ccc491f",
   "metadata": {},
   "outputs": [
    {
     "data": {
      "text/plain": [
       "(2770409, 14)"
      ]
     },
     "execution_count": 18,
     "metadata": {},
     "output_type": "execute_result"
    }
   ],
   "source": [
    "# Remove unwanted columns\n",
    "df_model = df_filtered.drop(['nameOrig', 'nameDest', 'isFlaggedFraud'], axis=1)\n",
    "df_model.shape\n"
   ]
  },
  {
   "cell_type": "code",
   "execution_count": 19,
   "id": "632fda9d-4938-450f-a1b7-b27daf768887",
   "metadata": {},
   "outputs": [
    {
     "data": {
      "text/html": [
       "<div>\n",
       "<style scoped>\n",
       "    .dataframe tbody tr th:only-of-type {\n",
       "        vertical-align: middle;\n",
       "    }\n",
       "\n",
       "    .dataframe tbody tr th {\n",
       "        vertical-align: top;\n",
       "    }\n",
       "\n",
       "    .dataframe thead th {\n",
       "        text-align: right;\n",
       "    }\n",
       "</style>\n",
       "<table border=\"1\" class=\"dataframe\">\n",
       "  <thead>\n",
       "    <tr style=\"text-align: right;\">\n",
       "      <th></th>\n",
       "      <th>step</th>\n",
       "      <th>type</th>\n",
       "      <th>amount</th>\n",
       "      <th>oldbalanceOrg</th>\n",
       "      <th>newbalanceOrig</th>\n",
       "      <th>oldbalanceDest</th>\n",
       "      <th>newbalanceDest</th>\n",
       "      <th>isFraud</th>\n",
       "      <th>balance_diff_orig</th>\n",
       "      <th>balance_diff_dest</th>\n",
       "      <th>is_orig_balance_zero_before</th>\n",
       "      <th>is_orig_balance_zero_after</th>\n",
       "      <th>is_dest_balance_zero_before</th>\n",
       "      <th>is_dest_balance_zero_after</th>\n",
       "    </tr>\n",
       "  </thead>\n",
       "  <tbody>\n",
       "    <tr>\n",
       "      <th>2</th>\n",
       "      <td>1</td>\n",
       "      <td>1</td>\n",
       "      <td>181.00</td>\n",
       "      <td>181.0</td>\n",
       "      <td>0.0</td>\n",
       "      <td>0.0</td>\n",
       "      <td>0.00</td>\n",
       "      <td>1</td>\n",
       "      <td>181.0</td>\n",
       "      <td>0.00</td>\n",
       "      <td>False</td>\n",
       "      <td>True</td>\n",
       "      <td>True</td>\n",
       "      <td>True</td>\n",
       "    </tr>\n",
       "    <tr>\n",
       "      <th>3</th>\n",
       "      <td>1</td>\n",
       "      <td>0</td>\n",
       "      <td>181.00</td>\n",
       "      <td>181.0</td>\n",
       "      <td>0.0</td>\n",
       "      <td>21182.0</td>\n",
       "      <td>0.00</td>\n",
       "      <td>1</td>\n",
       "      <td>181.0</td>\n",
       "      <td>-21182.00</td>\n",
       "      <td>False</td>\n",
       "      <td>True</td>\n",
       "      <td>False</td>\n",
       "      <td>True</td>\n",
       "    </tr>\n",
       "    <tr>\n",
       "      <th>15</th>\n",
       "      <td>1</td>\n",
       "      <td>0</td>\n",
       "      <td>229133.94</td>\n",
       "      <td>15325.0</td>\n",
       "      <td>0.0</td>\n",
       "      <td>5083.0</td>\n",
       "      <td>51513.44</td>\n",
       "      <td>0</td>\n",
       "      <td>15325.0</td>\n",
       "      <td>46430.44</td>\n",
       "      <td>False</td>\n",
       "      <td>True</td>\n",
       "      <td>False</td>\n",
       "      <td>False</td>\n",
       "    </tr>\n",
       "    <tr>\n",
       "      <th>19</th>\n",
       "      <td>1</td>\n",
       "      <td>1</td>\n",
       "      <td>215310.30</td>\n",
       "      <td>705.0</td>\n",
       "      <td>0.0</td>\n",
       "      <td>22425.0</td>\n",
       "      <td>0.00</td>\n",
       "      <td>0</td>\n",
       "      <td>705.0</td>\n",
       "      <td>-22425.00</td>\n",
       "      <td>False</td>\n",
       "      <td>True</td>\n",
       "      <td>False</td>\n",
       "      <td>True</td>\n",
       "    </tr>\n",
       "    <tr>\n",
       "      <th>24</th>\n",
       "      <td>1</td>\n",
       "      <td>1</td>\n",
       "      <td>311685.89</td>\n",
       "      <td>10835.0</td>\n",
       "      <td>0.0</td>\n",
       "      <td>6267.0</td>\n",
       "      <td>2719172.89</td>\n",
       "      <td>0</td>\n",
       "      <td>10835.0</td>\n",
       "      <td>2712905.89</td>\n",
       "      <td>False</td>\n",
       "      <td>True</td>\n",
       "      <td>False</td>\n",
       "      <td>False</td>\n",
       "    </tr>\n",
       "  </tbody>\n",
       "</table>\n",
       "</div>"
      ],
      "text/plain": [
       "    step  type     amount  oldbalanceOrg  newbalanceOrig  oldbalanceDest  \\\n",
       "2      1     1     181.00          181.0             0.0             0.0   \n",
       "3      1     0     181.00          181.0             0.0         21182.0   \n",
       "15     1     0  229133.94        15325.0             0.0          5083.0   \n",
       "19     1     1  215310.30          705.0             0.0         22425.0   \n",
       "24     1     1  311685.89        10835.0             0.0          6267.0   \n",
       "\n",
       "    newbalanceDest  isFraud  balance_diff_orig  balance_diff_dest  \\\n",
       "2             0.00        1              181.0               0.00   \n",
       "3             0.00        1              181.0          -21182.00   \n",
       "15        51513.44        0            15325.0           46430.44   \n",
       "19            0.00        0              705.0          -22425.00   \n",
       "24      2719172.89        0            10835.0         2712905.89   \n",
       "\n",
       "    is_orig_balance_zero_before  is_orig_balance_zero_after  \\\n",
       "2                         False                        True   \n",
       "3                         False                        True   \n",
       "15                        False                        True   \n",
       "19                        False                        True   \n",
       "24                        False                        True   \n",
       "\n",
       "    is_dest_balance_zero_before  is_dest_balance_zero_after  \n",
       "2                          True                        True  \n",
       "3                         False                        True  \n",
       "15                        False                       False  \n",
       "19                        False                        True  \n",
       "24                        False                       False  "
      ]
     },
     "execution_count": 19,
     "metadata": {},
     "output_type": "execute_result"
    }
   ],
   "source": [
    "df_model.head()"
   ]
  },
  {
   "cell_type": "code",
   "execution_count": 20,
   "id": "2c97ea0a-8db3-4219-a1a0-ed214b31bd94",
   "metadata": {},
   "outputs": [
    {
     "data": {
      "text/plain": [
       "isFraud\n",
       "0    0.997035\n",
       "1    0.002965\n",
       "Name: proportion, dtype: float64"
      ]
     },
     "execution_count": 20,
     "metadata": {},
     "output_type": "execute_result"
    }
   ],
   "source": [
    "df_filtered['isFraud'].value_counts(normalize=True)"
   ]
  },
  {
   "cell_type": "markdown",
   "id": "ff0e3810-adf8-451d-a450-a1e1bed80ad6",
   "metadata": {},
   "source": [
    "# Model Training"
   ]
  },
  {
   "cell_type": "markdown",
   "id": "b8267a11-2154-4a27-90ae-d403a5567bd3",
   "metadata": {},
   "source": [
    "## Imports"
   ]
  },
  {
   "cell_type": "code",
   "execution_count": 38,
   "id": "448aba44-b319-4e3f-be9e-7f40b674d49c",
   "metadata": {},
   "outputs": [],
   "source": [
    "import pandas as pd\n",
    "import numpy as np\n",
    "from sklearn.metrics import precision_score, recall_score, classification_report, confusion_matrix\n",
    "\n",
    "from sklearn.ensemble import IsolationForest, RandomForestClassifier\n",
    "from sklearn.svm import OneClassSVM\n",
    "from xgboost import XGBClassifier\n",
    "from imblearn.over_sampling import SMOTE\n",
    "from sklearn.model_selection import train_test_split\n",
    "\n",
    "import warnings\n",
    "warnings.filterwarnings('ignore')\n"
   ]
  },
  {
   "cell_type": "markdown",
   "id": "8f204bf9-18c4-44fe-962a-33f8e0c0b376",
   "metadata": {},
   "source": [
    "## Evaluation Functions"
   ]
  },
  {
   "cell_type": "code",
   "execution_count": 22,
   "id": "aa753dde-4b73-43b2-9426-a0681eaac271",
   "metadata": {},
   "outputs": [],
   "source": [
    "def print_anomaly_summary(name, y_true, y_pred):\n",
    "    total_transactions = len(y_true)\n",
    "    total_anomalies = sum(y_pred)\n",
    "    recall = recall_score(y_true, y_pred, zero_division=0)\n",
    "    precision = precision_score(y_true, y_pred, zero_division=0)\n",
    "    \n",
    "    print(f\"🔍 {name} Anomaly Detection Evaluation:\")\n",
    "    print(f\"- Flagged {100 * total_anomalies / total_transactions:.2f}% of total transactions as anomalies\")\n",
    "    print(f\"- Captured {100 * recall:.2f}% of actual frauds (recall)\")\n",
    "    print(f\"- {100 * precision:.2f}% of the anomalies were actual frauds (precision)\")\n",
    "    print(\"-\" * 60)\n",
    "\n",
    "def print_supervised_summary(name, y_true, y_pred):\n",
    "    total_preds = len(y_pred)\n",
    "    total_fraud_preds = sum(y_pred)\n",
    "    recall = recall_score(y_true, y_pred, zero_division=0)\n",
    "    precision = precision_score(y_true, y_pred, zero_division=0)\n",
    "    \n",
    "    print(f\"📊 {name} Supervised Model Evaluation:\")\n",
    "    print(f\"- Flagged {100 * total_fraud_preds / total_preds:.2f}% of total transactions as fraud\")\n",
    "    print(f\"- Captured {100 * recall:.2f}% of actual frauds (recall)\")\n",
    "    print(f\"- {100 * precision:.2f}% of the flagged frauds were actual frauds (precision)\")\n",
    "    print(\"-\" * 60)\n"
   ]
  },
  {
   "cell_type": "markdown",
   "id": "0193758b-9f61-4a4f-9867-362adf8c6eda",
   "metadata": {},
   "source": [
    "## Preparing the Data"
   ]
  },
  {
   "cell_type": "code",
   "execution_count": 23,
   "id": "ed083570-cf80-4dbd-b897-97319c0af72c",
   "metadata": {},
   "outputs": [],
   "source": [
    "# Use df_model from earlier steps — filtered and cleaned\n",
    "\n",
    "# Split into features and labels\n",
    "X = df_model.drop('isFraud', axis=1)\n",
    "y = df_model['isFraud']\n",
    "\n",
    "# Train-test split\n",
    "X_train, X_test, y_train, y_test = train_test_split(X, y, stratify=y, test_size=0.3, random_state=42)\n"
   ]
  },
  {
   "cell_type": "markdown",
   "id": "1b24bae6-904b-4790-9e45-8cca26b43363",
   "metadata": {},
   "source": [
    "## Supervised Learning"
   ]
  },
  {
   "cell_type": "markdown",
   "id": "966955df-179c-4bc4-b041-b0d579fbe1a3",
   "metadata": {},
   "source": [
    "### 1. Random Forest"
   ]
  },
  {
   "cell_type": "code",
   "execution_count": 24,
   "id": "c93fbc9c-409a-4a1a-84e6-057d9a5397fa",
   "metadata": {},
   "outputs": [],
   "source": [
    "# SMOTE resampling\n",
    "sm = SMOTE(random_state=42)\n",
    "X_train_res, y_train_res = sm.fit_resample(X_train, y_train)\n"
   ]
  },
  {
   "cell_type": "code",
   "execution_count": 25,
   "id": "d28e6eb1-ac16-4c4f-aac9-130ba4db798a",
   "metadata": {},
   "outputs": [
    {
     "name": "stdout",
     "output_type": "stream",
     "text": [
      "📊 Random Forest Supervised Model Evaluation:\n",
      "- Flagged 0.39% of total transactions as fraud\n",
      "- Captured 95.66% of actual frauds (recall)\n",
      "- 73.20% of the flagged frauds were actual frauds (precision)\n",
      "------------------------------------------------------------\n"
     ]
    }
   ],
   "source": [
    "rf = RandomForestClassifier(random_state=42, n_jobs=-1)\n",
    "rf.fit(X_train_res, y_train_res)\n",
    "\n",
    "y_pred_rf = rf.predict(X_test)\n",
    "\n"
   ]
  },
  {
   "cell_type": "markdown",
   "id": "9f1c24fd-85ba-46eb-b77f-7b8aea7070f8",
   "metadata": {},
   "source": [
    "### 2. XGBoost Classsifier"
   ]
  },
  {
   "cell_type": "code",
   "execution_count": 39,
   "id": "481a224d-2707-45f7-83bb-4e0579b9799c",
   "metadata": {},
   "outputs": [],
   "source": [
    "xgb = XGBClassifier(use_label_encoder=False, eval_metric='logloss', random_state=42)\n",
    "xgb.fit(X_train_res, y_train_res)\n",
    "\n",
    "y_pred_xgb = xgb.predict(X_test)\n"
   ]
  },
  {
   "cell_type": "markdown",
   "id": "e37920a0-8b5a-4b9d-9850-d13416b83978",
   "metadata": {},
   "source": [
    "## Anomaly Detection(Unsupervised Learning)"
   ]
  },
  {
   "cell_type": "markdown",
   "id": "938aa050-331d-4603-bd8a-8467c7459546",
   "metadata": {},
   "source": [
    "Uses only the non- fraud data for training"
   ]
  },
  {
   "cell_type": "code",
   "execution_count": 40,
   "id": "6a79b8e3-b64b-4e23-83d0-14ffb88d87ed",
   "metadata": {},
   "outputs": [],
   "source": [
    "normal_df = df_model[df_model['isFraud'] == 0].drop('isFraud', axis=1)\n",
    "X_full = df_model.drop('isFraud', axis=1)\n",
    "y_full = df_model['isFraud']\n"
   ]
  },
  {
   "cell_type": "markdown",
   "id": "f7a6a314-4e66-4a9e-86f5-8a47fa8dd3c0",
   "metadata": {},
   "source": [
    "### 3. Isolation Forest"
   ]
  },
  {
   "cell_type": "code",
   "execution_count": 41,
   "id": "67413767-56fd-42b1-a098-00d60fbb47fc",
   "metadata": {},
   "outputs": [],
   "source": [
    "iso = IsolationForest(contamination=0.005, random_state=42)\n",
    "iso.fit(normal_df)\n",
    "\n",
    "y_pred_iso = iso.predict(X_full)\n",
    "y_pred_iso = [1 if val == -1 else 0 for val in y_pred_iso]\n",
    "\n",
    "#print_anomaly_summary(\"Isolation Forest\", y_full, y_pred_iso)\n"
   ]
  },
  {
   "cell_type": "code",
   "execution_count": 42,
   "id": "d8675ccc-24bc-4804-b43d-6621c552da57",
   "metadata": {},
   "outputs": [
    {
     "name": "stdout",
     "output_type": "stream",
     "text": [
      "📊 Random Forest Supervised Model Evaluation:\n",
      "- Flagged 0.39% of total transactions as fraud\n",
      "- Captured 95.66% of actual frauds (recall)\n",
      "- 73.20% of the flagged frauds were actual frauds (precision)\n",
      "------------------------------------------------------------\n",
      "📊 XGBoost Supervised Model Evaluation:\n",
      "- Flagged 0.56% of total transactions as fraud\n",
      "- Captured 98.99% of actual frauds (recall)\n",
      "- 52.38% of the flagged frauds were actual frauds (precision)\n",
      "------------------------------------------------------------\n",
      "🔍 Isolation Forest Anomaly Detection Evaluation:\n",
      "- Flagged 0.61% of total transactions as anomalies\n",
      "- Captured 38.37% of actual frauds (recall)\n",
      "- 18.58% of the anomalies were actual frauds (precision)\n",
      "------------------------------------------------------------\n"
     ]
    }
   ],
   "source": [
    "print_supervised_summary(\"Random Forest\", y_test, y_pred_rf)\n",
    "print_supervised_summary(\"XGBoost\", y_test, y_pred_xgb)\n",
    "print_anomaly_summary(\"Isolation Forest\", y_full, y_pred_iso)\n"
   ]
  },
  {
   "cell_type": "markdown",
   "id": "732e2f46-5f72-4ca5-a983-f8c8dc43273f",
   "metadata": {},
   "source": [
    "## Conclusions\n",
    "\n",
    "Three models were evaluated for fraud detection: **Random Forest**, **XGBoost**, and **Isolation Forest**. Their performance was compared based on the percentage of transactions flagged, their ability to correctly detect frauds (**recall**), and the accuracy of those fraud predictions (**precision**).\n",
    "\n",
    "- **Random Forest** achieved a **recall of 95.66%** and a **precision of 73.20%**, while flagging only **0.39%** of all transactions. This indicates a strong balance between catching frauds and minimizing false positives.\n",
    "\n",
    "- **XGBoost** had the highest **recall at 98.99%**, meaning it captured nearly all frauds. However, its **precision was lower at 52.38%**, flagging more transactions overall (**0.56%**) and producing more false positives.\n",
    "\n",
    "- **Isolation Forest**, an unsupervised anomaly detection model, flagged **0.61%** of transactions, but only achieved **38.37% recall** and **18.58% precision**. This means most of the frauds were missed, and most of what was flagged was not actually fraudulent.\n",
    "\n",
    "\n",
    "\n",
    "## Recommendations\n",
    "\n",
    "1. **Adopt Random Forest as the primary fraud detection model**  \n",
    "   It provides an excellent balance of high recall and high precision, making it suitable for production deployment. It also reduces unnecessary investigations by flagging fewer non-fraud transactions.\n",
    "\n",
    "2. **Use XGBoost in high-risk environments where missing fraud is unacceptable**  \n",
    "   Although it produces more false positives, XGBoost’s high recall makes it useful in situations where maximizing fraud detection is the top priority.\n",
    "\n",
    "3. **Deploy Isolation Forest as a complementary anomaly detection layer**  \n",
    "   While not effective on its own, it can be valuable for detecting novel or emerging fraud patterns, especially in unlabeled or evolving datasets.\n",
    "\n",
    "4. **Retrain and tune models regularly**  \n",
    "   Fraud patterns change over time. Use periodic retraining, hyperparameter tuning, and feature engineering to adapt and maintain high detection performance.\n"
   ]
  }
 ],
 "metadata": {
  "kernelspec": {
   "display_name": "Python 3 (ipykernel)",
   "language": "python",
   "name": "python3"
  },
  "language_info": {
   "codemirror_mode": {
    "name": "ipython",
    "version": 3
   },
   "file_extension": ".py",
   "mimetype": "text/x-python",
   "name": "python",
   "nbconvert_exporter": "python",
   "pygments_lexer": "ipython3",
   "version": "3.13.5"
  }
 },
 "nbformat": 4,
 "nbformat_minor": 5
}
